{
  "nbformat": 4,
  "nbformat_minor": 0,
  "metadata": {
    "colab": {
      "provenance": [],
      "authorship_tag": "ABX9TyO1uwas72TzIib7Ihgp/5B5",
      "include_colab_link": true
    },
    "kernelspec": {
      "name": "python3",
      "display_name": "Python 3"
    },
    "language_info": {
      "name": "python"
    }
  },
  "cells": [
    {
      "cell_type": "markdown",
      "metadata": {
        "id": "view-in-github",
        "colab_type": "text"
      },
      "source": [
        "<a href=\"https://colab.research.google.com/github/Abbymuso1/Word_split/blob/Abi's-Branch/Word_Split_Excercise.ipynb\" target=\"_parent\"><img src=\"https://colab.research.google.com/assets/colab-badge.svg\" alt=\"Open In Colab\"/></a>"
      ]
    },
    {
      "cell_type": "code",
      "execution_count": 1,
      "metadata": {
        "id": "fQBI5FGLhMPu"
      },
      "outputs": [],
      "source": [
        "def split_words(sent):\n",
        "  words = sent.split() #function to split words\n",
        "  return words"
      ]
    },
    {
      "cell_type": "code",
      "source": [
        "sentence = \"She is a good girl\"\n",
        "words = split_words(sentence)\n",
        "for word in words:\n",
        "  print(word)"
      ],
      "metadata": {
        "colab": {
          "base_uri": "https://localhost:8080/"
        },
        "id": "4vC8dtOOqhCa",
        "outputId": "8f4c6d72-5ae9-493c-d45c-2473f1405aad"
      },
      "execution_count": 2,
      "outputs": [
        {
          "output_type": "stream",
          "name": "stdout",
          "text": [
            "She\n",
            "is\n",
            "a\n",
            "good\n",
            "girl\n"
          ]
        }
      ]
    },
    {
      "cell_type": "code",
      "source": [
        "import re"
      ],
      "metadata": {
        "id": "Fb_MA6muq4DN"
      },
      "execution_count": 3,
      "outputs": []
    },
    {
      "cell_type": "code",
      "source": [
        "def split(sentence):\n",
        "  words = re.findall(r'\\b\\w+\\b',sentence)\n",
        "  return words"
      ],
      "metadata": {
        "id": "KOrjPQ-Eq69V"
      },
      "execution_count": 4,
      "outputs": []
    },
    {
      "cell_type": "code",
      "source": [
        "sentence2 = \"Hello my name is Abi\"\n",
        "words = split(sentence2)\n",
        "for word in words:\n",
        "  print(word)"
      ],
      "metadata": {
        "colab": {
          "base_uri": "https://localhost:8080/"
        },
        "id": "qN0s-h42rWbv",
        "outputId": "924be48a-0b09-448d-80e1-9aaf71cc253c"
      },
      "execution_count": 5,
      "outputs": [
        {
          "output_type": "stream",
          "name": "stdout",
          "text": [
            "Hello\n",
            "my\n",
            "name\n",
            "is\n",
            "Abi\n"
          ]
        }
      ]
    },
    {
      "cell_type": "markdown",
      "source": [
        "Reading from file"
      ],
      "metadata": {
        "id": "8RHHi75grkua"
      }
    },
    {
      "cell_type": "code",
      "source": [
        "def read_file_word_split(file_path):\n",
        "  with open(file_path, 'r') as file:\n",
        "    text = file.read()\n",
        "    return split(text)"
      ],
      "metadata": {
        "id": "OlJJloMvrmdQ"
      },
      "execution_count": 7,
      "outputs": []
    },
    {
      "cell_type": "code",
      "source": [
        "file_name = 'text'\n",
        "words = read_file_word_split(file_name)\n",
        "for word in words:\n",
        "  print(word)"
      ],
      "metadata": {
        "colab": {
          "base_uri": "https://localhost:8080/"
        },
        "id": "eU4vUuHmsFLq",
        "outputId": "8e2dc2de-3577-4471-cc3a-e255e444843e"
      },
      "execution_count": 8,
      "outputs": [
        {
          "output_type": "stream",
          "name": "stdout",
          "text": [
            "Why\n",
            "are\n",
            "you\n",
            "like\n",
            "that\n"
          ]
        }
      ]
    }
  ]
}